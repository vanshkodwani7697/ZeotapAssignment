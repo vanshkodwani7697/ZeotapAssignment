{
  "nbformat": 4,
  "nbformat_minor": 0,
  "metadata": {
    "colab": {
      "provenance": []
    },
    "kernelspec": {
      "name": "python3",
      "display_name": "Python 3"
    },
    "language_info": {
      "name": "python"
    }
  },
  "cells": [
    {
      "cell_type": "code",
      "execution_count": 10,
      "metadata": {
        "colab": {
          "base_uri": "https://localhost:8080/"
        },
        "id": "BHwzLTtqso_I",
        "outputId": "f7fc31eb-438b-47fb-ce28-f9e292fcc421"
      },
      "outputs": [
        {
          "output_type": "stream",
          "name": "stdout",
          "text": [
            "Lookalike.csv has been created!\n"
          ]
        }
      ],
      "source": [
        "import pandas as pd\n",
        "from sklearn.model_selection import train_test_split\n",
        "from sklearn.ensemble import RandomForestClassifier\n",
        "from sklearn.preprocessing import LabelEncoder\n",
        "from sklearn.metrics.pairwise import cosine_similarity\n",
        "import numpy as np\n",
        "\n",
        "\n",
        "customers = pd.read_csv('/content/Customers.csv')\n",
        "products = pd.read_csv('/content/Products.csv')\n",
        "transactions = pd.read_csv('/content/Transactions.csv')\n",
        "\n",
        "\n",
        "customers['SignupDate'] = pd.to_datetime(customers['SignupDate'])\n",
        "transactions['TransactionDate'] = pd.to_datetime(transactions['TransactionDate'])\n",
        "\n",
        "\n",
        "data = transactions.merge(customers, on='CustomerID', how='left').merge(products, on='ProductID', how='left')\n",
        "\n",
        "\n",
        "customer_spend = data.groupby('CustomerID')['TotalValue'].sum().rename('TotalSpend')\n",
        "\n",
        "\n",
        "customer_aov = data.groupby('CustomerID')['TotalValue'].mean().rename('AverageOrderValue')\n",
        "\n",
        "\n",
        "customer_freq = data['CustomerID'].value_counts().rename('TransactionFrequency')\n",
        "\n",
        "\n",
        "favorite_category = data.groupby('CustomerID')['Category'].agg(lambda x: x.mode()[0]).rename('FavoriteCategory')\n",
        "\n",
        "\n",
        "customer_features = pd.DataFrame({\n",
        "    'CustomerID': customers['CustomerID']\n",
        "}).merge(customer_spend, on='CustomerID', how='left') \\\n",
        "  .merge(customer_aov, on='CustomerID', how='left') \\\n",
        "  .merge(customer_freq, on='CustomerID', how='left') \\\n",
        "  .merge(favorite_category, on='CustomerID', how='left')\n",
        "\n",
        "\n",
        "le = LabelEncoder()\n",
        "customer_features['FavoriteCategory'] = le.fit_transform(customer_features['FavoriteCategory'])\n",
        "\n",
        "\n",
        "customer_features.fillna(0, inplace=True)\n",
        "\n",
        "\n",
        "X = customer_features.drop(columns=['CustomerID'])\n",
        "y = customer_features['CustomerID']\n",
        "\n",
        "\n",
        "X_train, X_test, y_train, y_test = train_test_split(X, y, test_size=0.2, random_state=42)\n",
        "\n",
        "\n",
        "model = RandomForestClassifier(random_state=42)\n",
        "model.fit(X_train, y_train)\n",
        "\n",
        "\n",
        "feature_matrix = customer_features.drop(columns=['CustomerID']).values\n",
        "\n",
        "\n",
        "similarity_matrix = cosine_similarity(feature_matrix)\n",
        "\n",
        "\n",
        "def get_top_3_similar(customers_list, sim_matrix, customer_ids):\n",
        "    recommendations = {}\n",
        "    for idx, cust_id in enumerate(customers_list):\n",
        "\n",
        "        similarity_scores = sim_matrix[idx]\n",
        "\n",
        "\n",
        "        similar_indices = np.argsort(similarity_scores)[::-1][1:4]\n",
        "\n",
        "\n",
        "        similar_customers = [(customer_ids[i], similarity_scores[i]) for i in similar_indices]\n",
        "\n",
        "        recommendations[cust_id] = similar_customers\n",
        "    return recommendations\n",
        "\n",
        "\n",
        "target_customers = customers['CustomerID'][:20].values\n",
        "lookalike_recommendations = get_top_3_similar(\n",
        "    customers_list=target_customers,\n",
        "    sim_matrix=similarity_matrix[:20],\n",
        "    customer_ids=customer_features['CustomerID'].values\n",
        ")\n",
        "\n",
        "\n",
        "lookalike_data = []\n",
        "for cust_id, recs in lookalike_recommendations.items():\n",
        "    lookalike_data.append({'CustomerID': cust_id, 'Recommendations': recs})\n",
        "\n",
        "lookalike_df = pd.DataFrame(lookalike_data)\n",
        "lookalike_df.to_csv('Vansh_Kodwani_Lookalike.csv', index=False)\n",
        "\n",
        "print(\"Lookalike.csv has been created!\")\n"
      ]
    }
  ]
}